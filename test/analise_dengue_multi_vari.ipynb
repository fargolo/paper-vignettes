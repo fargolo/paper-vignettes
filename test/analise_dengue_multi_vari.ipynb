{
 "cells": [
  {
   "cell_type": "code",
   "execution_count": 1,
   "metadata": {},
   "outputs": [],
   "source": [
    "using CSV \n",
    "using DataFrames\n",
    "using SymbolicInference\n",
    "using RecurrenceAnalysis\n"
   ]
  },
  {
   "cell_type": "code",
   "execution_count": null,
   "metadata": {},
   "outputs": [],
   "source": [
    "rec_rate = 0.4;"
   ]
  },
  {
   "cell_type": "code",
   "execution_count": null,
   "metadata": {},
   "outputs": [],
   "source": [
    "df = CSV.read(\"../data/sanjuan_data_cut.csv\", DataFrame)\n",
    "ts1 = df[!, \"precipitation\"]\n",
    "ts2 = df[!, \"total_cases\"]\n",
    "\n",
    "ts2 = convert(Array{Float64}, ts2)"
   ]
  },
  {
   "cell_type": "markdown",
   "metadata": {},
   "source": [
    "## Joint Recurrence"
   ]
  },
  {
   "cell_type": "code",
   "execution_count": null,
   "metadata": {},
   "outputs": [],
   "source": [
    "rec_matriz_joint = RecurrenceAnalysis.JointRecurrenceMatrix(ts1, ts2, rec_rate; fixedrate=true)"
   ]
  },
  {
   "cell_type": "code",
   "execution_count": null,
   "metadata": {},
   "outputs": [],
   "source": [
    "rec_matrix_motifs_joint = SymbolicInference.rec_matrix_motifs(rec_matriz_joint; max_window=100)"
   ]
  },
  {
   "cell_type": "code",
   "execution_count": null,
   "metadata": {},
   "outputs": [],
   "source": [
    "coordinates_joint =  SymbolicInference.extract_recurrences_joint(ts1, ts2, rec_matrix_motifs_joint; num_windows=100)"
   ]
  },
  {
   "cell_type": "code",
   "execution_count": null,
   "metadata": {},
   "outputs": [],
   "source": [
    "SymbolicInference.plot_motifs_joint(ts1,ts2,\n",
    "    coordinates_joint;n_motifs=30)"
   ]
  },
  {
   "cell_type": "markdown",
   "metadata": {},
   "source": [
    "## Cross Recurrence "
   ]
  },
  {
   "cell_type": "code",
   "execution_count": null,
   "metadata": {},
   "outputs": [],
   "source": [
    "# esperar dados normalizados para rodar isso\n",
    "rec_matriz_cross = RecurrenceAnalysis.CrossRecurrenceMatrix(ts1, ts2, rec_rate; fixedrate=true)"
   ]
  },
  {
   "cell_type": "code",
   "execution_count": null,
   "metadata": {},
   "outputs": [],
   "source": [
    "rec_matrix_motifs_cross = SymbolicInference.rec_matrix_motifs(rec_matriz_cross; max_window=100)"
   ]
  },
  {
   "cell_type": "code",
   "execution_count": null,
   "metadata": {},
   "outputs": [],
   "source": [
    "coordinates_cross =  SymbolicInference.extract_recurrences_cross(ts1, ts2, rec_matrix_motifs_cross; num_windows=100)"
   ]
  },
  {
   "cell_type": "code",
   "execution_count": null,
   "metadata": {},
   "outputs": [],
   "source": [
    "SymbolicInference.plot_motifs_cross(ts1,ts2,\n",
    "    coordinates_cross;n_motifs=30)"
   ]
  }
 ],
 "metadata": {
  "kernelspec": {
   "display_name": "Julia 1.10.2",
   "language": "julia",
   "name": "julia-1.10"
  },
  "language_info": {
   "file_extension": ".jl",
   "mimetype": "application/julia",
   "name": "julia",
   "version": "1.10.2"
  }
 },
 "nbformat": 4,
 "nbformat_minor": 2
}
