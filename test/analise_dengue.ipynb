{
 "cells": [
  {
   "cell_type": "code",
   "execution_count": 1,
   "metadata": {},
   "outputs": [],
   "source": [
    "using CSV \n",
    "using DataFrames\n",
    "using SymbolicInference\n",
    "using RecurrenceAnalysis\n"
   ]
  },
  {
   "cell_type": "code",
   "execution_count": null,
   "metadata": {},
   "outputs": [],
   "source": [
    "rec_rate = 0.4;"
   ]
  },
  {
   "cell_type": "code",
   "execution_count": null,
   "metadata": {},
   "outputs": [],
   "source": [
    "df = CSV.read(\"../data/sanjuan_data_cut.csv\", DataFrame)\n",
    "ts1 = df[!, \"precipitation\"]\n",
    "ts2 = df[!, \"total_cases\"]\n",
    "\n",
    "ts2 = convert(Array{Float64}, ts2)"
   ]
  },
  {
   "cell_type": "code",
   "execution_count": null,
   "metadata": {},
   "outputs": [],
   "source": [
    "total_cases_rec_matrix = RecurrenceAnalysis.RecurrenceMatrix(ts2, rec_rate; fixedrate=true)"
   ]
  },
  {
   "cell_type": "code",
   "execution_count": null,
   "metadata": {},
   "outputs": [],
   "source": [
    "motifs_dict = SymbolicInference.rec_matrix_motifs(total_cases_rec_matrix; max_window=100, n_motifs=3)"
   ]
  },
  {
   "cell_type": "code",
   "execution_count": null,
   "metadata": {},
   "outputs": [],
   "source": [
    "coordinates = SymbolicInference.extract_recurrences(ts2, motifs_dict, num_windows=100)\n",
    "GLMakie.activate!(inline=false)"
   ]
  },
  {
   "cell_type": "code",
   "execution_count": null,
   "metadata": {},
   "outputs": [],
   "source": [
    "p = SymbolicInference.plot_motifs(ts2, coordinates; n_motifs=20)"
   ]
  },
  {
   "cell_type": "markdown",
   "metadata": {},
   "source": [
    "## Recorrencia Cruzada"
   ]
  },
  {
   "cell_type": "code",
   "execution_count": null,
   "metadata": {},
   "outputs": [],
   "source": [
    "rec_matriz_joint = RecurrenceAnalysis.JointRecurrenceMatrix(ts1, ts2, rec_rate; fixedrate=true)"
   ]
  },
  {
   "cell_type": "code",
   "execution_count": null,
   "metadata": {},
   "outputs": [],
   "source": [
    "rec_matrix_motifs_joint = SymbolicInference.rec_matrix_motifs(rec_matriz_joint; max_window=100)"
   ]
  },
  {
   "cell_type": "code",
   "execution_count": null,
   "metadata": {},
   "outputs": [],
   "source": [
    "coordinates_joint =  SymbolicInference.extract_recurrences_joint(ts1, ts2, rec_matrix_motifs_joint; num_windows=100)"
   ]
  },
  {
   "cell_type": "code",
   "execution_count": null,
   "metadata": {},
   "outputs": [],
   "source": [
    "SymbolicInference.plot_motifs_joint(ts1,ts2,\n",
    "    coordinates_joint;n_motifs=30)\n"
   ]
  }
 ],
 "metadata": {
  "kernelspec": {
   "display_name": "Julia 1.10.2",
   "language": "julia",
   "name": "julia-1.10"
  },
  "language_info": {
   "file_extension": ".jl",
   "mimetype": "application/julia",
   "name": "julia",
   "version": "1.10.2"
  }
 },
 "nbformat": 4,
 "nbformat_minor": 2
}
